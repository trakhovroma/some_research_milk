{
  "cells": [
    {
      "metadata": {
        "trusted": true
      },
      "cell_type": "code",
      "source": "import scipy.signal\nimport pandas as pd\nimport pickle\nimport os\nfrom os import listdir\nfrom os.path import isfile, join\nimport ezodf\nfrom tqdm import tqdm_notebook\n%matplotlib inline\nimport warnings\nfrom sklearn import metrics\nwarnings.filterwarnings('ignore')\nfrom sklearn.model_selection import train_test_split\nfrom sklearn.decomposition import PCA\nimport matplotlib.pyplot as plt\n\n\ndef read_ods(filename, sheet_no=0, header=0):\n    tab = ezodf.opendoc(filename=filename).sheets[sheet_no]\n    return pd.DataFrame({col[header].value:[x.value for x in col[header+1:]]\n                         for col in tab.columns()})\ndef function(x):\n    if len(str(x)) > 5:\n        return x[-2:]\n    else:\n        return str(x)[:2]\n#download pretrained models\nclf1  = pickle.load(open(\"models/clf1.pickle.dat\", \"rb\"))\nclf2  = pickle.load(open(\"models/clf2.pickle.dat\", \"rb\"))\nclf3_1  = pickle.load(open(\"models/clf31.pickle.dat\", \"rb\"))\nclf3_2  = pickle.load(open(\"models/clf32.pickle.dat\", \"rb\"))\nclf3_3  = pickle.load(open(\"models/clf33.pickle.dat\", \"rb\"))\nclf3_4  = pickle.load(open(\"models/clf34.pickle.dat\", \"rb\"))\ndef create_dataset(input_file):\n    with open(input_file) as f1:\n        content = f1.readlines()\n        vector = [[float(x[:-1].replace(',','.')) for x in content]]\n    data = vector[0][6:]\n    maxes = max(data[-1500:-50])\n    d = [x/maxes for x in data]\n    return list(scipy.signal.savgol_filter(d,45,3, deriv = 2))\ndef print_result(x):\n    if  max(clf3_1.predict_proba(x)[0]) > 0.93:\n        prediction = clf3_1.predict(x)\n        prob = max(clf3_1.predict_proba(x)[0])\n    else:\n        prediction = clf2.predict(x)\n        prob = max(clf2.predict_proba(x)[0])\n    if prediction == 1:\n        print('Молоко содержит Крахмал с вероятностью '+ str(prob))\n    else:\n        print('Молоко не содержит Крахмал')\n        \n    if  max(clf3_2.predict_proba(x)[0]) > 0.93:\n        prediction = clf3_2.predict(x)\n        prob = max(clf3_2.predict_proba(x)[0])\n    else:\n        prediction = clf2.predict(x)\n        prob = (3+max(clf2.predict_proba(x)[0]))/4\n    if prediction == 1 or prediction == 2:\n        print('Молоко содержит МС с вероятностью '+ str(prob))\n    else:\n        print('Молоко не содержит МС')\n    \n    if  max(clf3_3.predict_proba(x)[0]) > 0.9:\n        prediction = clf3_3.predict(x)\n        prob = max(clf3_3.predict_proba(x)[0])\n    else:\n        prediction = clf2.predict(x)\n        prob = (3+max(clf2.predict_proba(x)[0]))/4\n    if prediction == 1 or prediction == 3:\n        print('Молоко содержит СМ с вероятностью '+ str(prob))\n    else:\n        print('Молоко не содержит СМ')\n        \n    if  max(clf3_4.predict_proba(x)[0]) > 0.9:\n        prediction = clf3_4.predict(x)\n        prob = max(clf3_4.predict_proba(x)[0])\n    else:\n        prediction = clf2.predict(x)\n        prob = (3+max(clf2.predict_proba(x)[0]))/4\n    if prediction == 1 or prediction == 4:\n        print('Молоко содержит ИМ с вероятностью '+ str(prob))\n    else:\n        print('Молоко не содержит ИМ')\n        \ndef score(x):\n    lst = []\n    if  max(clf3_1.predict_proba(x)[0]) > 0.93:\n        lst.append(clf3_1.predict(x)[0])\n    else:\n        if clf2.predict(x) == 1:\n            lst.append(1)\n        else:\n            lst.append(0)\n        \n    if  max(clf3_2.predict_proba(x)[0]) > 0.93:\n        lst.append(2*clf3_2.predict(x)[0])\n    else:\n        if clf2.predict(x) == 2:\n            lst.append(2)\n        else:\n            lst.append(0)\n    \n    if  max(clf3_3.predict_proba(x)[0]) > 0.9:\n        lst.append(3*clf3_3.predict(x)[0])\n    else:\n        if clf2.predict(x) == 3:\n            lst.append(3)\n        else:\n            lst.append(0)\n        \n    if  max(clf3_4.predict_proba(x)[0]) > 0.9:\n        lst.append(4*clf3_4.predict(x)[0])\n    else:\n        if clf2.predict(x) == 4:\n            lst.append(4)\n        else:\n            lst.append(0)\n    return lst\n        \ndef score0(x):\n    a = min([max(clf3_1.predict_proba(x)[0]), max(clf3_2.predict_proba(x)[0]), max(clf3_3.predict_proba(x)[0]), max(clf3_4.predict_proba(x)[0])])\n    print(a)\n    if a < 0.93:\n        return clf2.predict(x)\n    else:\n        if max(clf3_1.predict_proba(x)[0]) == a:\n            return 1*clf3_1.predict(x)\n        elif max(clf3_2.predict_proba(x)[0]) == a:\n            return 2*clf3_2.predict(x)\n        elif max(clf3_3.predict_proba(x)[0]) == a:\n            return 3*clf3_3.predict(x)\n        elif max(clf3_4.predict_proba(x)[0]) == a:\n            return 4*clf3_4.predict(x)\n    \ndef classification(file):\n    print_result(create_dataset(file))",
      "execution_count": 215,
      "outputs": []
    },
    {
      "metadata": {},
      "cell_type": "markdown",
      "source": "### Примеры работы"
    },
    {
      "metadata": {},
      "cell_type": "markdown",
      "source": "#### тут можно поиграться с новыми измерениями, чтобы убедиться что эта штука работает"
    },
    {
      "metadata": {
        "trusted": true
      },
      "cell_type": "code",
      "source": "# 4_11 с крахмалом",
      "execution_count": 113,
      "outputs": []
    },
    {
      "metadata": {
        "trusted": true
      },
      "cell_type": "code",
      "source": "classification('data/4_11/0.25_ 20 мкл 2 мин 2_0000.asp')",
      "execution_count": 101,
      "outputs": [
        {
          "output_type": "stream",
          "text": "Молоко не содержит Крахмал\nМолоко не содержит МС\nМолоко не содержит СМ\nМолоко не содержит ИМ\n",
          "name": "stdout"
        }
      ]
    },
    {
      "metadata": {
        "trusted": true
      },
      "cell_type": "code",
      "source": "classification('data/4_11/0.25_ 20 мкл 2 мин 1_0000.asp')",
      "execution_count": 102,
      "outputs": [
        {
          "output_type": "stream",
          "text": "Молоко не содержит Крахмал\nМолоко не содержит МС\nМолоко не содержит СМ\nМолоко не содержит ИМ\n",
          "name": "stdout"
        }
      ]
    },
    {
      "metadata": {
        "trusted": true
      },
      "cell_type": "code",
      "source": "classification('data/4_11/8_ 20 мкл 2 мин 4_0000.asp')",
      "execution_count": 103,
      "outputs": [
        {
          "output_type": "stream",
          "text": "Молоко содержит Крахмал с вероятностью 0.9909059\nМолоко не содержит МС\nМолоко не содержит СМ\nМолоко не содержит ИМ\n",
          "name": "stdout"
        }
      ]
    },
    {
      "metadata": {
        "trusted": true
      },
      "cell_type": "code",
      "source": "classification('data/4_11/8_ 20 мкл 2 мин 1_0000.asp')",
      "execution_count": 104,
      "outputs": [
        {
          "output_type": "stream",
          "text": "Молоко содержит Крахмал с вероятностью 0.9952083\nМолоко не содержит МС\nМолоко не содержит СМ\nМолоко не содержит ИМ\n",
          "name": "stdout"
        }
      ]
    },
    {
      "metadata": {
        "trusted": true
      },
      "cell_type": "code",
      "source": "#4_10 хз с чем, но походу с CM",
      "execution_count": 115,
      "outputs": []
    },
    {
      "metadata": {
        "trusted": true
      },
      "cell_type": "code",
      "source": "classification('data/4_10/s milk 0_ 20 mcl 2 min 1_0000.asp')",
      "execution_count": 116,
      "outputs": [
        {
          "output_type": "stream",
          "text": "Молоко не содержит Крахмал\nМолоко не содержит МС\nМолоко не содержит СМ\nМолоко не содержит ИМ\n",
          "name": "stdout"
        }
      ]
    },
    {
      "metadata": {
        "trusted": true
      },
      "cell_type": "code",
      "source": "classification('data/4_10/s milk 5_ 20 mcl 2 min 1_0000.asp')",
      "execution_count": 117,
      "outputs": [
        {
          "output_type": "stream",
          "text": "Молоко не содержит Крахмал\nМолоко не содержит МС\nМолоко содержит СМ с вероятностью 0.9560735672712326\nМолоко не содержит ИМ\n",
          "name": "stdout"
        }
      ]
    },
    {
      "metadata": {
        "trusted": true
      },
      "cell_type": "code",
      "source": "classification('data/4_10/s milk 10_ 20 mcl 2 min 2_0000.asp')",
      "execution_count": 118,
      "outputs": [
        {
          "output_type": "stream",
          "text": "Молоко не содержит Крахмал\nМолоко не содержит МС\nМолоко содержит СМ с вероятностью 0.8876716643571854\nМолоко не содержит ИМ\n",
          "name": "stdout"
        }
      ]
    },
    {
      "metadata": {
        "trusted": true
      },
      "cell_type": "code",
      "source": "classification('data/4_10/s milk 10_ 20 mcl 2 min 2_0000.asp')",
      "execution_count": 119,
      "outputs": [
        {
          "output_type": "stream",
          "text": "Молоко не содержит Крахмал\nМолоко не содержит МС\nМолоко содержит СМ с вероятностью 0.8876716643571854\nМолоко не содержит ИМ\n",
          "name": "stdout"
        }
      ]
    },
    {
      "metadata": {
        "trusted": true
      },
      "cell_type": "markdown",
      "source": "### Кажется что идеально работает эта штука, далее небольшой отчет по всем измерениям"
    },
    {
      "metadata": {
        "trusted": true
      },
      "cell_type": "markdown",
      "source": "# Scoring и анализ ошибок"
    },
    {
      "metadata": {
        "trusted": true
      },
      "cell_type": "code",
      "source": "# все директории\ndirectories = [x[0] for x in os.walk('data')][1:]",
      "execution_count": 59,
      "outputs": []
    },
    {
      "metadata": {
        "trusted": true
      },
      "cell_type": "code",
      "source": "directories",
      "execution_count": 121,
      "outputs": [
        {
          "output_type": "execute_result",
          "execution_count": 121,
          "data": {
            "text/plain": "['data/4_9', 'data/4_10', 'data/4_6', 'data/4_7', 'data/4_11', 'data/4_8']"
          },
          "metadata": {}
        }
      ]
    },
    {
      "metadata": {
        "trusted": true
      },
      "cell_type": "code",
      "source": "def spliting(direc,file):\n    if direc == 'data/4_9' or direc == 'data/4_10':\n        return file.split(' ')[2].split('_')[0]\n    if direc == 'data/4_6':\n        return file.split(' ')[0].split('_')[1]\n    if direc == 'data/4_7':\n        return file.split(' ')[0].split('_')[2]\n    if direc == 'data/4_11':\n        return file.split('_')[0]\n    if direc == 'data/4_8':\n        return file.split(' ')[1].split('_')[0]",
      "execution_count": 161,
      "outputs": []
    },
    {
      "metadata": {
        "trusted": true
      },
      "cell_type": "code",
      "source": "facts = []\npreds = []\nkonts = []\nfor direc in tqdm_notebook(directories):\n    tbl = pd.read_excel(direc+'/'+[f for f in listdir(direc) if isfile(join(direc, f)) and f[-4:] == 'xlsx'][0])\n    cont = tbl.Contaminant[0]\n    for f in [f for f in listdir(direc) if isfile(join(direc, f)) and f[-4:] != 'xlsx']:\n        facts.append(spliting(direc,f))\n        preds.append(score(create_dataset(direc+'/'+f)))\n        konts.append(cont)",
      "execution_count": 216,
      "outputs": [
        {
          "output_type": "display_data",
          "data": {
            "application/vnd.jupyter.widget-view+json": {
              "model_id": "c6cfa3d6d2a54f4383aabe46efcd2e06",
              "version_minor": 0,
              "version_major": 2
            },
            "text/plain": "HBox(children=(IntProgress(value=0, max=6), HTML(value='')))"
          },
          "metadata": {}
        },
        {
          "output_type": "stream",
          "text": "\n",
          "name": "stdout"
        }
      ]
    },
    {
      "metadata": {
        "trusted": true
      },
      "cell_type": "code",
      "source": "result_df = pd.DataFrame(facts)",
      "execution_count": 217,
      "outputs": []
    },
    {
      "metadata": {
        "trusted": true
      },
      "cell_type": "code",
      "source": "result_df['fact'] = facts\nresult_df['preds'] = preds\nresult_df['konts'] = konts",
      "execution_count": 218,
      "outputs": []
    },
    {
      "metadata": {
        "trusted": true
      },
      "cell_type": "code",
      "source": "result_df.konts.unique()",
      "execution_count": 229,
      "outputs": [
        {
          "output_type": "execute_result",
          "execution_count": 229,
          "data": {
            "text/plain": "array(['Искуственное Молоко', 'Сухое молоко', 'Сывортка', 'Крахмал'],\n      dtype=object)"
          },
          "metadata": {}
        }
      ]
    },
    {
      "metadata": {
        "trusted": true
      },
      "cell_type": "code",
      "source": "## Крахмал:\nkr = result_df[result_df.konts == 'Крахмал']\nprint(metrics.classification_report([1 if float(x) > 1 else 0 for x in kr.fact], [x[0] for x in kr.preds]))",
      "execution_count": 227,
      "outputs": [
        {
          "output_type": "stream",
          "text": "             precision    recall  f1-score   support\n\n          0       0.88      0.88      0.88        16\n          1       0.88      0.88      0.88        16\n\navg / total       0.88      0.88      0.88        32\n\n",
          "name": "stdout"
        }
      ]
    },
    {
      "metadata": {
        "trusted": true
      },
      "cell_type": "code",
      "source": "## ИМ:\nkr = result_df[result_df.konts == 'Искуственное Молоко']\nprint(metrics.classification_report([1 if float(x.replace(',','.')) > 1 else 0 for x in kr.fact], [x[3]/4 for x in kr.preds]))",
      "execution_count": 233,
      "outputs": [
        {
          "output_type": "stream",
          "text": "             precision    recall  f1-score   support\n\n          0       0.42      0.62      0.50        16\n          1       0.85      0.71      0.77        48\n\navg / total       0.74      0.69      0.70        64\n\n",
          "name": "stdout"
        }
      ]
    },
    {
      "metadata": {
        "trusted": true
      },
      "cell_type": "code",
      "source": "## СМ:\nkr = result_df[result_df.konts == 'Сухое молоко']\nprint(metrics.classification_report([1 if float(x.replace(',','.')) > 1 else 0 for x in kr.fact], [x[2]/3 for x in kr.preds]))",
      "execution_count": 246,
      "outputs": [
        {
          "output_type": "stream",
          "text": "             precision    recall  f1-score   support\n\n          0       0.29      0.69      0.41        16\n          1       0.81      0.44      0.57        48\n\navg / total       0.68      0.50      0.53        64\n\n",
          "name": "stdout"
        }
      ]
    },
    {
      "metadata": {
        "trusted": true
      },
      "cell_type": "code",
      "source": "## МС:\nkr = result_df[result_df.konts == 'Сывортка']\nkr['fact'] = kr.fact.apply(lambda x: '0' if x =='' else x)\nprint(metrics.classification_report([1 if float(x) > 1 else 0 for x in kr.fact], [x[1]/2 for x in kr.preds]))",
      "execution_count": 247,
      "outputs": [
        {
          "output_type": "stream",
          "text": "             precision    recall  f1-score   support\n\n          0       0.38      1.00      0.55        12\n          1       0.00      0.00      0.00        20\n\navg / total       0.14      0.38      0.20        32\n\n",
          "name": "stdout"
        }
      ]
    }
  ],
  "metadata": {
    "kernelspec": {
      "name": "python36",
      "display_name": "Python 3.6",
      "language": "python"
    },
    "language_info": {
      "mimetype": "text/x-python",
      "nbconvert_exporter": "python",
      "name": "python",
      "pygments_lexer": "ipython3",
      "version": "3.6.6",
      "file_extension": ".py",
      "codemirror_mode": {
        "version": 3,
        "name": "ipython"
      }
    }
  },
  "nbformat": 4,
  "nbformat_minor": 2
}